{
  "nbformat": 4,
  "nbformat_minor": 0,
  "metadata": {
    "kernelspec": {
      "display_name": "Python 3",
      "language": "python",
      "name": "python3"
    },
    "language_info": {
      "codemirror_mode": {
        "name": "ipython",
        "version": 3
      },
      "file_extension": ".py",
      "mimetype": "text/x-python",
      "name": "python",
      "nbconvert_exporter": "python",
      "pygments_lexer": "ipython3",
      "version": "3.7.3"
    },
    "colab": {
      "name": "bai-tap-pandas-series.ipynb",
      "provenance": [],
      "include_colab_link": true
    }
  },
  "cells": [
    {
      "cell_type": "markdown",
      "metadata": {
        "id": "view-in-github",
        "colab_type": "text"
      },
      "source": [
        "<a href=\"https://colab.research.google.com/github/tantai17132002/Python-Data-Analysis/blob/main/bai_tap_pandas_series.ipynb\" target=\"_parent\"><img src=\"https://colab.research.google.com/assets/colab-badge.svg\" alt=\"Open In Colab\"/></a>"
      ]
    },
    {
      "cell_type": "markdown",
      "metadata": {
        "id": "Js3G-qCRph_C"
      },
      "source": [
        "Câu 1: Hãy tạo 1 đối tượng kiểu Series có tối thiểu 10 phần tử (kiểu số) với giá trị tùy ý thích của bạn. \n",
        "       In giá trị của Series đó ra màn hình"
      ]
    },
    {
      "cell_type": "code",
      "metadata": {
        "colab": {
          "base_uri": "https://localhost:8080/"
        },
        "id": "xJk2DFHzph_H",
        "outputId": "2c1aa330-da81-42d2-b4b3-674bc590b6ee"
      },
      "source": [
        "import numpy as np\r\n",
        "import pandas as pd\r\n",
        "\r\n",
        "a = pd.Series(np.random.randint(200,size = 10))\r\n",
        "a"
      ],
      "execution_count": 4,
      "outputs": [
        {
          "output_type": "execute_result",
          "data": {
            "text/plain": [
              "0    133\n",
              "1     19\n",
              "2     56\n",
              "3     35\n",
              "4     68\n",
              "5     78\n",
              "6     40\n",
              "7    127\n",
              "8    162\n",
              "9    186\n",
              "dtype: int64"
            ]
          },
          "metadata": {
            "tags": []
          },
          "execution_count": 4
        }
      ]
    },
    {
      "cell_type": "markdown",
      "metadata": {
        "id": "dQMjeUZjph_K"
      },
      "source": [
        "Câu 2: Hãy tạo 1 đối tượng kiểu Series với giá trị khởi tạo hình thành từ dữ liệu kiểu Dictionary. In kết quả ra màn hình"
      ]
    },
    {
      "cell_type": "code",
      "metadata": {
        "colab": {
          "base_uri": "https://localhost:8080/"
        },
        "id": "s5jbaqtHph_L",
        "outputId": "001ec02b-6c4c-496b-8058-900b1c131faa"
      },
      "source": [
        "dict = {'tên':'TNTT', 'tuổi': 18, 'công việc': 'sinh viên', 'lương': '10 tỷ', 'đi xe': 'LAMBORGHINI'}\r\n",
        "b = pd.Series(dict)\r\n",
        "b"
      ],
      "execution_count": 5,
      "outputs": [
        {
          "output_type": "execute_result",
          "data": {
            "text/plain": [
              "tên                 TNTT\n",
              "tuổi                  18\n",
              "công việc      sinh viên\n",
              "lương              10 tỷ\n",
              "đi xe        LAMBORGHINI\n",
              "dtype: object"
            ]
          },
          "metadata": {
            "tags": []
          },
          "execution_count": 5
        }
      ]
    },
    {
      "cell_type": "markdown",
      "metadata": {
        "id": "k3_UdgR4ph_M"
      },
      "source": [
        "Câu 3: Sử dụng series ở câu 1, hãy thay đổi giá trị của cột index từ kiểu số theo kiểu ký tự với giá trị do bạn tự xác định."
      ]
    },
    {
      "cell_type": "code",
      "metadata": {
        "colab": {
          "base_uri": "https://localhost:8080/"
        },
        "id": "-WsjBowaph_O",
        "outputId": "15244c2c-8534-40ea-fab4-ba27c3620882"
      },
      "source": [
        "a_id = []\r\n",
        "for i in a.index:\r\n",
        "    a_id.append(f'so thu {i}')\r\n",
        "a_2 = pd.Series(a.values, index=a_id)\r\n",
        "a_2"
      ],
      "execution_count": 7,
      "outputs": [
        {
          "output_type": "execute_result",
          "data": {
            "text/plain": [
              "so thu 0    133\n",
              "so thu 1     19\n",
              "so thu 2     56\n",
              "so thu 3     35\n",
              "so thu 4     68\n",
              "so thu 5     78\n",
              "so thu 6     40\n",
              "so thu 7    127\n",
              "so thu 8    162\n",
              "so thu 9    186\n",
              "dtype: int64"
            ]
          },
          "metadata": {
            "tags": []
          },
          "execution_count": 7
        }
      ]
    },
    {
      "cell_type": "markdown",
      "metadata": {
        "id": "4CtNZDomph_P"
      },
      "source": [
        "Câu 4: Sử dụng series ở câu 2, hãy truy cập đến phần tử thứ 5 và in ra màn hình"
      ]
    },
    {
      "cell_type": "code",
      "metadata": {
        "colab": {
          "base_uri": "https://localhost:8080/"
        },
        "id": "aKIqpI9aph_Q",
        "outputId": "2aabce2a-aadf-4172-b20f-97784c1e4cb2"
      },
      "source": [
        "print(b[4])"
      ],
      "execution_count": 8,
      "outputs": [
        {
          "output_type": "stream",
          "text": [
            "LAMBORGHINI\n"
          ],
          "name": "stdout"
        }
      ]
    },
    {
      "cell_type": "markdown",
      "metadata": {
        "id": "R3Dc5KdNph_R"
      },
      "source": [
        "Câu 5: Sử dụng series ở câu 3, hãy truy cập đến 1 phần tử dựa theo chỉ số kiểu ký tự do bạn lựa chọn và in ra màn hình"
      ]
    },
    {
      "cell_type": "code",
      "metadata": {
        "colab": {
          "base_uri": "https://localhost:8080/"
        },
        "id": "nxEVsRYoph_S",
        "outputId": "5dbc8519-8d1a-472c-b976-ef11ce1dfd53"
      },
      "source": [
        "print(a_2['so thu 1'])"
      ],
      "execution_count": 9,
      "outputs": [
        {
          "output_type": "stream",
          "text": [
            "19\n"
          ],
          "name": "stdout"
        }
      ]
    },
    {
      "cell_type": "markdown",
      "metadata": {
        "id": "Td3kezVaph_T"
      },
      "source": [
        "Câu 6: Sử dụng series ở câu 3, hãy tìm ra tính chất đặc thù trong các chỉ số kiểu kí tự, thực hiện vòng lặp for duyệt trên các chỉ mục kiểu kí tự này để lọc ra những phần tử thỏa mãn điều kiện và in ra màn hình"
      ]
    },
    {
      "cell_type": "code",
      "metadata": {
        "colab": {
          "base_uri": "https://localhost:8080/"
        },
        "id": "xsAvtJW1ph_T",
        "outputId": "ee0b9f89-cbda-4bdc-a777-fa5804433905"
      },
      "source": [
        "#lấy các số thứ (0-4)\r\n",
        "\r\n",
        "a_2[[int(name[-1]) <4 for name in a_2.index]]"
      ],
      "execution_count": 10,
      "outputs": [
        {
          "output_type": "execute_result",
          "data": {
            "text/plain": [
              "so thu 0    133\n",
              "so thu 1     19\n",
              "so thu 2     56\n",
              "so thu 3     35\n",
              "dtype: int64"
            ]
          },
          "metadata": {
            "tags": []
          },
          "execution_count": 10
        }
      ]
    },
    {
      "cell_type": "markdown",
      "metadata": {
        "id": "M9RQNrSPph_U"
      },
      "source": [
        "Câu 7: Sử dụng series ở câu 1, hãy đổi tên cột index thành 'STT' và đặt tên cho series là 'Gia_tri'. In kết quả ra màn hình "
      ]
    },
    {
      "cell_type": "code",
      "metadata": {
        "colab": {
          "base_uri": "https://localhost:8080/"
        },
        "id": "LfWJ1lOGph_U",
        "outputId": "e25f1340-b6b2-4f8a-9a69-b147b9586fb7"
      },
      "source": [
        "a.index.name = 'STT'\r\n",
        "a.name = 'Gia_tri'\r\n",
        "a"
      ],
      "execution_count": 11,
      "outputs": [
        {
          "output_type": "execute_result",
          "data": {
            "text/plain": [
              "STT\n",
              "0    133\n",
              "1     19\n",
              "2     56\n",
              "3     35\n",
              "4     68\n",
              "5     78\n",
              "6     40\n",
              "7    127\n",
              "8    162\n",
              "9    186\n",
              "Name: Gia_tri, dtype: int64"
            ]
          },
          "metadata": {
            "tags": []
          },
          "execution_count": 11
        }
      ]
    },
    {
      "cell_type": "markdown",
      "metadata": {
        "id": "pqvVoJ5_ph_V"
      },
      "source": [
        "Câu 8: Hãy áp dụng hàm logarith của gói numpy với series ở câu 1 và in kết quả ra màn hình"
      ]
    },
    {
      "cell_type": "code",
      "metadata": {
        "colab": {
          "base_uri": "https://localhost:8080/"
        },
        "id": "NR6vmVIMph_V",
        "outputId": "e28bea69-ab9e-4e74-b2ae-a6c9a942bf16"
      },
      "source": [
        "a_log = pd.Series([np.log(gt) for gt in a.values])\r\n",
        "a_log.name = 'logarith'\r\n",
        "a_log"
      ],
      "execution_count": 12,
      "outputs": [
        {
          "output_type": "execute_result",
          "data": {
            "text/plain": [
              "0    4.890349\n",
              "1    2.944439\n",
              "2    4.025352\n",
              "3    3.555348\n",
              "4    4.219508\n",
              "5    4.356709\n",
              "6    3.688879\n",
              "7    4.844187\n",
              "8    5.087596\n",
              "9    5.225747\n",
              "Name: logarith, dtype: float64"
            ]
          },
          "metadata": {
            "tags": []
          },
          "execution_count": 12
        }
      ]
    },
    {
      "cell_type": "markdown",
      "metadata": {
        "id": "t4sy0WzKph_W"
      },
      "source": [
        "Câu 9: Lọc các giá trị của series 1 > 15 và in ra màn hình"
      ]
    },
    {
      "cell_type": "code",
      "metadata": {
        "colab": {
          "base_uri": "https://localhost:8080/"
        },
        "id": "Qc8sm5DLph_W",
        "outputId": "0134bc17-6a92-4b4b-c4b2-85b77295ed9b"
      },
      "source": [
        "a[a>10]"
      ],
      "execution_count": 21,
      "outputs": [
        {
          "output_type": "execute_result",
          "data": {
            "text/plain": [
              "STT\n",
              "0    133\n",
              "1     19\n",
              "2     56\n",
              "3     35\n",
              "4     68\n",
              "5     78\n",
              "6     40\n",
              "7    127\n",
              "8    162\n",
              "9    186\n",
              "Name: Gia_tri, dtype: int64"
            ]
          },
          "metadata": {
            "tags": []
          },
          "execution_count": 21
        }
      ]
    }
  ]
}