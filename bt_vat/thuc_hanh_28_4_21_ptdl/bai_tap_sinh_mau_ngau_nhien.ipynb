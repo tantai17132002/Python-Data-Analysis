{
  "nbformat": 4,
  "nbformat_minor": 0,
  "metadata": {
    "kernelspec": {
      "display_name": "Python 3",
      "language": "python",
      "name": "python3"
    },
    "language_info": {
      "codemirror_mode": {
        "name": "ipython",
        "version": 3
      },
      "file_extension": ".py",
      "mimetype": "text/x-python",
      "name": "python",
      "nbconvert_exporter": "python",
      "pygments_lexer": "ipython3",
      "version": "3.7.3"
    },
    "colab": {
      "name": "bai-tap-sinh-mau-ngau-nhien.ipynb",
      "provenance": [],
      "include_colab_link": true
    }
  },
  "cells": [
    {
      "cell_type": "markdown",
      "metadata": {
        "id": "view-in-github",
        "colab_type": "text"
      },
      "source": [
        "<a href=\"https://colab.research.google.com/github/tantai17132002/Python-Data-Analysis/blob/main/bt_vat/thuc_hanh_28_4_21_ptdl/bai_tap_sinh_mau_ngau_nhien.ipynb\" target=\"_parent\"><img src=\"https://colab.research.google.com/assets/colab-badge.svg\" alt=\"Open In Colab\"/></a>"
      ]
    },
    {
      "cell_type": "code",
      "metadata": {
        "id": "I6ekI5tjXncf"
      },
      "source": [
        "import numpy as np"
      ],
      "execution_count": null,
      "outputs": []
    },
    {
      "cell_type": "markdown",
      "metadata": {
        "id": "o0aTaAkVVnQK"
      },
      "source": [
        "Sử dụng thư viện Numpy\n",
        "\n",
        "1. Sinh mẫu ngẫu nhiên bằng hàm arange trong khoảng [-15, 27] với khoảng cách là 0.7 và in kết quả ra màn hình"
      ]
    },
    {
      "cell_type": "code",
      "metadata": {
        "id": "FT7fYrwBVnQQ",
        "colab": {
          "base_uri": "https://localhost:8080/"
        },
        "outputId": "b341aa48-9522-4f17-e820-63022dc51ef4"
      },
      "source": [
        "sample_1 = np.arange(-15, 27, 0.7)\n",
        "print(sample_1)"
      ],
      "execution_count": null,
      "outputs": [
        {
          "output_type": "stream",
          "text": [
            "[-15.  -14.3 -13.6 -12.9 -12.2 -11.5 -10.8 -10.1  -9.4  -8.7  -8.   -7.3\n",
            "  -6.6  -5.9  -5.2  -4.5  -3.8  -3.1  -2.4  -1.7  -1.   -0.3   0.4   1.1\n",
            "   1.8   2.5   3.2   3.9   4.6   5.3   6.    6.7   7.4   8.1   8.8   9.5\n",
            "  10.2  10.9  11.6  12.3  13.   13.7  14.4  15.1  15.8  16.5  17.2  17.9\n",
            "  18.6  19.3  20.   20.7  21.4  22.1  22.8  23.5  24.2  24.9  25.6  26.3\n",
            "  27. ]\n"
          ],
          "name": "stdout"
        }
      ]
    },
    {
      "cell_type": "markdown",
      "metadata": {
        "id": "hiQD1KbpVnQQ"
      },
      "source": [
        "2. Sinh mẫu ngẫu nhiên theo phân phối chuẩn với mean = 2.7 std = 1.2 và size = 40\n",
        "In kết quả ra màn hình"
      ]
    },
    {
      "cell_type": "code",
      "metadata": {
        "id": "q3P2jE7XVnQR",
        "colab": {
          "base_uri": "https://localhost:8080/"
        },
        "outputId": "6a56472a-b11a-4681-e8eb-93c8404abef7"
      },
      "source": [
        "np.random.normal(loc=2.7, scale=1.2,size=40)"
      ],
      "execution_count": null,
      "outputs": [
        {
          "output_type": "execute_result",
          "data": {
            "text/plain": [
              "array([ 2.46277509,  4.15669086,  2.34577739,  3.46460189,  3.04729931,\n",
              "        1.42604748,  4.01539452,  1.78917931,  1.09696301,  4.15704985,\n",
              "        2.34579791,  1.94955032,  2.46383383,  0.63866462,  3.30599232,\n",
              "        1.93966058,  0.52492299,  1.58519795, -0.7042704 ,  2.33603217,\n",
              "        2.30134889,  2.7657177 ,  0.57763258,  2.59888655,  2.06995361,\n",
              "        3.44656931,  3.81103443,  2.45005783,  3.84307202,  1.07797377,\n",
              "        3.10214288,  0.46176737,  3.48538803,  3.97626081,  1.99773312,\n",
              "        3.81787879,  3.10099497,  2.62197955,  2.46729183,  1.39948328])"
            ]
          },
          "metadata": {
            "tags": []
          },
          "execution_count": 12
        }
      ]
    },
    {
      "cell_type": "markdown",
      "metadata": {
        "id": "cw5G_j6ZVnQR"
      },
      "source": [
        "3. Sinh mẫu ngẫu nhiên từ vector ['Viet Nam', 'Britain', 'France', 'Russia', 'Singapore'] \n",
        "\n",
        "với kích thước là 17 theo phân phối chuẩn"
      ]
    },
    {
      "cell_type": "code",
      "metadata": {
        "id": "tHol82LDVnQS",
        "colab": {
          "base_uri": "https://localhost:8080/"
        },
        "outputId": "b3d25c3c-23e6-497b-e60a-dc955f8b7720"
      },
      "source": [
        "np.random.choice(['Viet Nam', 'Britain', 'France', 'Russia', 'Singapore'],14)"
      ],
      "execution_count": null,
      "outputs": [
        {
          "output_type": "execute_result",
          "data": {
            "text/plain": [
              "array(['Russia', 'Singapore', 'Britain', 'Viet Nam', 'Russia', 'Britain',\n",
              "       'Singapore', 'Britain', 'Viet Nam', 'France', 'Singapore',\n",
              "       'Viet Nam', 'Viet Nam', 'Viet Nam'], dtype='<U9')"
            ]
          },
          "metadata": {
            "tags": []
          },
          "execution_count": 14
        }
      ]
    },
    {
      "cell_type": "markdown",
      "metadata": {
        "id": "16lseUDnVnQS"
      },
      "source": [
        "4. Sinh mẫu ngẫu nhiên ở câu 3 nhưng không theo phân phối chuẩn mà theo 1 vector đặc tả giá trị xác suất do bạn chọn"
      ]
    },
    {
      "cell_type": "code",
      "metadata": {
        "id": "nVCZeWd4VnQS",
        "colab": {
          "base_uri": "https://localhost:8080/"
        },
        "outputId": "8853185d-e142-416a-e95a-6a8968b4f63c"
      },
      "source": [
        "p = [0.1, 0.05, 0.3, 0.05, 0.4]\n",
        "np.random.choice(['Viet Nam', 'Britain', 'France', 'Russia', 'Singapore'],14, p)"
      ],
      "execution_count": null,
      "outputs": [
        {
          "output_type": "execute_result",
          "data": {
            "text/plain": [
              "array(['Singapore', 'France', 'Viet Nam', 'Britain', 'Viet Nam', 'France',\n",
              "       'France', 'Britain', 'Singapore', 'Britain', 'Britain', 'Britain',\n",
              "       'Russia', 'Russia'], dtype='<U9')"
            ]
          },
          "metadata": {
            "tags": []
          },
          "execution_count": 15
        }
      ]
    },
    {
      "cell_type": "markdown",
      "metadata": {
        "id": "8llqWZY1VnQS"
      },
      "source": [
        "Sử dụng thư việc scipy.stats để sinh mẫu ngẫu nhiên\n",
        "\n",
        "1. Sinh mẫu ngẫu nhiên theo phân phối chuẩn với mean = 12.7, std = 2.6 và size = 30. In kết quả ra màn hình"
      ]
    },
    {
      "cell_type": "code",
      "metadata": {
        "id": "i4Ra5zkKVnQT",
        "colab": {
          "base_uri": "https://localhost:8080/"
        },
        "outputId": "fd8d45ca-4d93-48e4-fada-a62e7e6b2727"
      },
      "source": [
        "from scipy import stats\n",
        "\n",
        "#Sinh ngẫu nhiên mẫu theo phân phối chuẩn với mean = 5.5 std = 2.3 và size = 100\n",
        "stats.norm.rvs(loc = 12.7, scale = 2.6, size = 30)\n"
      ],
      "execution_count": null,
      "outputs": [
        {
          "output_type": "execute_result",
          "data": {
            "text/plain": [
              "array([11.12672032, 14.28708234, 13.78774488, 10.02101322, 14.12115747,\n",
              "       15.58611946, 20.36956647,  7.1627317 ,  9.11018488, 13.17508746,\n",
              "       16.24350881, 12.49169214, 11.19428574, 17.17315902, 14.99463557,\n",
              "        6.42154183, 10.72284539,  9.56836095,  9.34809602, 10.23895568,\n",
              "       11.63688762, 12.6832288 , 13.41315856, 14.69848185, 15.00007949,\n",
              "       16.61516286, 12.06951813, 16.48904964,  9.99184309,  8.76022835])"
            ]
          },
          "metadata": {
            "tags": []
          },
          "execution_count": 17
        }
      ]
    },
    {
      "cell_type": "markdown",
      "metadata": {
        "id": "GYzP41GDVnQT"
      },
      "source": [
        "2. Hãy sinh một mẫu ngẫu nhiên theo phân phối Poisson"
      ]
    },
    {
      "cell_type": "code",
      "metadata": {
        "id": "FXNkv3nMVnQT",
        "colab": {
          "base_uri": "https://localhost:8080/"
        },
        "outputId": "2b4302f4-3286-466b-e477-33364b0b564a"
      },
      "source": [
        "a = stats.poisson.rvs(mu=0.1, size=100)\n",
        "j=0\n",
        "for i in a:\n",
        "  if i ==0:\n",
        "    j+=1\n",
        "print(j)"
      ],
      "execution_count": null,
      "outputs": [
        {
          "output_type": "stream",
          "text": [
            "93\n"
          ],
          "name": "stdout"
        }
      ]
    },
    {
      "cell_type": "code",
      "metadata": {
        "id": "yOxYxxauVnQT"
      },
      "source": [
        ""
      ],
      "execution_count": null,
      "outputs": []
    }
  ]
}