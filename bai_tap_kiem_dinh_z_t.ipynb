{
  "nbformat": 4,
  "nbformat_minor": 0,
  "metadata": {
    "kernelspec": {
      "display_name": "Python 3",
      "language": "python",
      "name": "python3"
    },
    "language_info": {
      "codemirror_mode": {
        "name": "ipython",
        "version": 3
      },
      "file_extension": ".py",
      "mimetype": "text/x-python",
      "name": "python",
      "nbconvert_exporter": "python",
      "pygments_lexer": "ipython3",
      "version": "3.7.3"
    },
    "colab": {
      "name": "bai-tap-kiem-dinh-z-t.ipynb",
      "provenance": [],
      "include_colab_link": true
    }
  },
  "cells": [
    {
      "cell_type": "markdown",
      "metadata": {
        "id": "view-in-github",
        "colab_type": "text"
      },
      "source": [
        "<a href=\"https://colab.research.google.com/github/tantai17132002/Python-Data-Analysis/blob/main/bai_tap_kiem_dinh_z_t.ipynb\" target=\"_parent\"><img src=\"https://colab.research.google.com/assets/colab-badge.svg\" alt=\"Open In Colab\"/></a>"
      ]
    },
    {
      "cell_type": "markdown",
      "metadata": {
        "id": "b40Zbk-4ptPQ"
      },
      "source": [
        "XÂY DỰNG CHƯƠNG TRÌNH KIỂM ĐỊNH Z (HOẶC T) CHO CÁC BÀI TẬP SAU\n",
        "\n",
        "Gợi ý:\n",
        "\n",
        "- Số liệu được sinh ngẫu nhiên theo phân phối chuẩn\n",
        "- Sử dụng gói phần mềm statsmodels để tiến hành kiểm định\n",
        "- Đối với các bài tập kiểm định giả thuyết thì sinh viên cần phát biểu các giả thuyết (bằng tiếng Việt) $H_{0}$ và $H_{a}$ trước khi lập trình kiểm định"
      ]
    },
    {
      "cell_type": "code",
      "metadata": {
        "id": "49__O6pduK2c",
        "outputId": "cab3cd4f-81cb-49b1-f406-847e55a03b19",
        "colab": {
          "base_uri": "https://localhost:8080/"
        }
      },
      "source": [
        "pip install scipy==1.6.2"
      ],
      "execution_count": 1,
      "outputs": [
        {
          "output_type": "stream",
          "text": [
            "Collecting scipy==1.6.2\n",
            "\u001b[?25l  Downloading https://files.pythonhosted.org/packages/75/91/ee427c42957f8c4cbe477bf4f8b7f608e003a17941e509d1777e58648cb3/scipy-1.6.2-cp37-cp37m-manylinux1_x86_64.whl (27.4MB)\n",
            "\u001b[K     |████████████████████████████████| 27.4MB 144kB/s \n",
            "\u001b[?25hRequirement already satisfied: numpy<1.23.0,>=1.16.5 in /usr/local/lib/python3.7/dist-packages (from scipy==1.6.2) (1.19.5)\n",
            "\u001b[31mERROR: albumentations 0.1.12 has requirement imgaug<0.2.7,>=0.2.5, but you'll have imgaug 0.2.9 which is incompatible.\u001b[0m\n",
            "Installing collected packages: scipy\n",
            "  Found existing installation: scipy 1.4.1\n",
            "    Uninstalling scipy-1.4.1:\n",
            "      Successfully uninstalled scipy-1.4.1\n",
            "Successfully installed scipy-1.6.2\n"
          ],
          "name": "stdout"
        }
      ]
    },
    {
      "cell_type": "code",
      "metadata": {
        "id": "a-KTLifvuOTA"
      },
      "source": [
        "from scipy import stats\n",
        "import numpy as np\n",
        "from statsmodels.stats.weightstats import ztest"
      ],
      "execution_count": 3,
      "outputs": []
    },
    {
      "cell_type": "code",
      "metadata": {
        "id": "QJedggRguXWv"
      },
      "source": [
        "# tinh kiem dinh 2 duoi_1 mau\n",
        "# nhập vào list mẫu theo thứ tự: trung bình mẫu, độ lệch chuẩn, kích thước mẫu\n",
        "# nhập vào list phát biểu theo: giả thuyết H0, mức ý nghĩa alpha\n",
        "# so_huong nhận 1 trong 3 giá trị: 'two-sided', 'less', 'greater'\n",
        "def kiem_dinh_t(mau, phat_bieu, so_huong):\n",
        "    sample = np.random.normal(mau[0],mau[1],mau[2])\n",
        "    null_mean = phat_bieu[0]\n",
        "    alpha = phat_bieu[1]\n",
        "    ts, pvalue = stats.ttest_1samp(sample, null_mean, alternative=so_huong)\n",
        "    if (pvalue < alpha):\n",
        "        print(\"Có bằng chứng để bác bỏ giả thuyết H0\")\n",
        "    else:\n",
        "        print(\"Chưa có bằng chứng để bác bỏ giả thuyết H0\")\n",
        "\n",
        "# so_huong ‘two-sided’, ‘larger’, ‘smaller’\n",
        "def kiem_dinh_z(mau, phat_bieu, so_huong):\n",
        "    sample = np.random.normal(mau[0],mau[1],mau[2])\n",
        "    null_mean = phat_bieu[0]\n",
        "    alpha = phat_bieu[1]\n",
        "    ztest_Score, p_value= ztest(sample, value = null_mean, alternative=so_huong)\n",
        "    if (p_value < alpha):\n",
        "        print(\"Có bằng chứng để bác bỏ giả thuyết H0\")\n",
        "    else:\n",
        "        print(\"Chưa có bằng chứng để bác bỏ giả thuyết H0\")"
      ],
      "execution_count": 4,
      "outputs": []
    },
    {
      "cell_type": "markdown",
      "metadata": {
        "id": "kbB6Eem6ptPV"
      },
      "source": [
        "Bài 1: You’re a Q/C inspector for Gallo. The sample standard deviation for 2-liter bottles is .05 liters.  A random sample of 100 bottles showed sasmple mean = 1.99 liters.  What is the 90%  confidence interval estimate of the true mean amount in 2-liter bottles? "
      ]
    },
    {
      "cell_type": "code",
      "metadata": {
        "id": "P0pwMhJuptPW",
        "outputId": "7f685d86-d572-4e34-d961-7795e9f47bbe",
        "colab": {
          "base_uri": "https://localhost:8080/"
        }
      },
      "source": [
        "kiem_dinh_z([1.99,0.05,100],[2,0.1],'two-sided')"
      ],
      "execution_count": 5,
      "outputs": [
        {
          "output_type": "stream",
          "text": [
            "Chưa có bằng chứng để bác bỏ giả thuyết H0\n"
          ],
          "name": "stdout"
        }
      ]
    },
    {
      "cell_type": "markdown",
      "metadata": {
        "id": "Z_grzycFptPW"
      },
      "source": [
        "Bài 2: You’re a time study analyst in manufacturing.  You’ve recorded the following task times (min.): 3.6, 4.2, 4.0, 3.5, 3.8, 3.1. What is the 90% confidence interval estimate of the population mean task time? "
      ]
    },
    {
      "cell_type": "code",
      "metadata": {
        "id": "2LiopJ3sptPX",
        "outputId": "67f52ee9-eaa1-4ff0-bb90-e47f7626f352",
        "colab": {
          "base_uri": "https://localhost:8080/"
        }
      },
      "source": [
        "a = [3.6, 4.2, 4.0, 3.5, 3.8, 3.1]\n",
        "stats.t.interval(0.9, len(a)-1, loc=np.mean(a), scale=stats.sem(a))"
      ],
      "execution_count": 6,
      "outputs": [
        {
          "output_type": "execute_result",
          "data": {
            "text/plain": [
              "(3.3792758632100677, 4.020724136789934)"
            ]
          },
          "metadata": {
            "tags": []
          },
          "execution_count": 6
        }
      ]
    },
    {
      "cell_type": "markdown",
      "metadata": {
        "id": "OqjD9JtaptPX"
      },
      "source": [
        "Bài 3: Does an average box of cereal contain 368 grams of cereal?  A random sample of 25 boxes had $\\overline{\\rm x}$ = 372.5.  The company has specified $\\sigma$ to be 25 grams.  Test at the .05 level of significance."
      ]
    },
    {
      "cell_type": "code",
      "metadata": {
        "id": "Ddnl-XIFptPX",
        "outputId": "d454b97a-9254-4151-a32f-3452b2db484c",
        "colab": {
          "base_uri": "https://localhost:8080/"
        }
      },
      "source": [
        "kiem_dinh_t([372.5,25,25],[368,0.05],'two-sided')"
      ],
      "execution_count": 7,
      "outputs": [
        {
          "output_type": "stream",
          "text": [
            "Chưa có bằng chứng để bác bỏ giả thuyết H0\n"
          ],
          "name": "stdout"
        }
      ]
    },
    {
      "cell_type": "markdown",
      "metadata": {
        "id": "uLJkBxFNptPY"
      },
      "source": [
        "Bài 4: You’re a Q/C inspector.  You want to find out if a new machine is making electrical cords to customer specification: average breaking strength of 70 lb. with $\\sigma$ = 3.5 lb.  You take a sample of 36 cords & compute a sample mean of 69.7 lb.  At the .05 level of significance, is there evidence that the machine is not meeting the average breaking strength?"
      ]
    },
    {
      "cell_type": "code",
      "metadata": {
        "id": "35cmGSu9ptPY",
        "outputId": "959b4602-1315-4db4-e54d-8313920c502e",
        "colab": {
          "base_uri": "https://localhost:8080/"
        }
      },
      "source": [
        "kiem_dinh_z([69.7,3.5, 36],[70,0.05],'two-sided')"
      ],
      "execution_count": 8,
      "outputs": [
        {
          "output_type": "stream",
          "text": [
            "Chưa có bằng chứng để bác bỏ giả thuyết H0\n"
          ],
          "name": "stdout"
        }
      ]
    },
    {
      "cell_type": "markdown",
      "metadata": {
        "id": "XW9Q_v_IptPY"
      },
      "source": [
        "Bài 5: Does an average box of cereal contain more than 368 grams of cereal?  A random sample of 25 boxes showed $\\overline{\\rm x}$ =  372.5.  The company has specified $\\sigma$ to be 25 grams.  Test at the .05 level of significance."
      ]
    },
    {
      "cell_type": "code",
      "metadata": {
        "id": "UpQ2F0itptPY",
        "outputId": "da62957f-4cc5-4665-c97b-6feb3cdfd036",
        "colab": {
          "base_uri": "https://localhost:8080/"
        }
      },
      "source": [
        "kiem_dinh_t([372.5,25,25],[368,0.05],'two-sided')"
      ],
      "execution_count": 9,
      "outputs": [
        {
          "output_type": "stream",
          "text": [
            "Có bằng chứng để bác bỏ giả thuyết H0\n"
          ],
          "name": "stdout"
        }
      ]
    },
    {
      "cell_type": "markdown",
      "metadata": {
        "id": "DuJxsqLPptPZ"
      },
      "source": [
        "Bài 6: You’re an analyst for Ford.  You want to find out if the average miles per gallon of Escorts is at least 32 mpg. Similar models have a standard deviation of 3.8 mpg. You take a sample of 60 Escorts & compute a sample mean of 30.7 mpg. At the .01 level of significance, is there evidence that the miles per gallon is less than 32?"
      ]
    },
    {
      "cell_type": "code",
      "metadata": {
        "id": "KcxcoldwptPZ",
        "outputId": "d9571514-7682-4593-9e5f-b4e0f0d586c7",
        "colab": {
          "base_uri": "https://localhost:8080/"
        }
      },
      "source": [
        "kiem_dinh_z([30.7,3.8,60],[32,0.01],'smaller')"
      ],
      "execution_count": 10,
      "outputs": [
        {
          "output_type": "stream",
          "text": [
            "Có bằng chứng để bác bỏ giả thuyết H0\n"
          ],
          "name": "stdout"
        }
      ]
    },
    {
      "cell_type": "markdown",
      "metadata": {
        "id": "Uo7T5OecptPZ"
      },
      "source": [
        "Bài 7: Does an average box of cereal contain 368 grams of cereal?  A random sample of 25 boxes showed $\\overline{\\rm x}$ = 372.5.  The company has specified $\\sigma$ to be 15 grams.  Find the p-Value."
      ]
    },
    {
      "cell_type": "code",
      "metadata": {
        "id": "2oWwBXizptPZ",
        "outputId": "cd9831b2-e28a-4d9a-fc45-60600ac99894",
        "colab": {
          "base_uri": "https://localhost:8080/"
        }
      },
      "source": [
        "so_huong ='two-sided'\n",
        "sample = np.random.normal(372.5,15,25)\n",
        "null_mean = 368\n",
        "ts, pvalue = stats.ttest_1samp(sample, null_mean, alternative=so_huong)\n",
        "print(pvalue)"
      ],
      "execution_count": 11,
      "outputs": [
        {
          "output_type": "stream",
          "text": [
            "0.025441367997051625\n"
          ],
          "name": "stdout"
        }
      ]
    },
    {
      "cell_type": "markdown",
      "metadata": {
        "id": "AjB-AE8DptPZ"
      },
      "source": [
        "Bài 8: Does an average box of cereal contain more than 368 grams of cereal?  A random sample of 25 boxes showed $\\overline{\\rm x}$ = 372.5.  The company has specified $\\sigma$ to be 15 grams.  Find the p-Value."
      ]
    },
    {
      "cell_type": "code",
      "metadata": {
        "id": "mO2XS3KwptPa",
        "outputId": "551caabd-5031-4767-9bc8-da5fd24ccf9a",
        "colab": {
          "base_uri": "https://localhost:8080/"
        }
      },
      "source": [
        "so_huong ='two-sided'\n",
        "sample = np.random.normal(372.5,15,25)\n",
        "null_mean = 368\n",
        "ts, pvalue = stats.ttest_1samp(sample, null_mean, alternative=so_huong)\n",
        "print(pvalue)"
      ],
      "execution_count": 12,
      "outputs": [
        {
          "output_type": "stream",
          "text": [
            "0.026222960943625126\n"
          ],
          "name": "stdout"
        }
      ]
    },
    {
      "cell_type": "markdown",
      "metadata": {
        "id": "F4gx02FqptPa"
      },
      "source": [
        "Bài 9: You’re an analyst for Ford.  You want to find out if the average miles per gallon of Escorts is less than 32 mpg.   Similar models have a standard deviation of 3.8 mpg.  You take a sample of 60 Escorts & compute a sample mean of 30.7 mpg.  What is the value of the observed level of significance (p-Value)?"
      ]
    },
    {
      "cell_type": "code",
      "metadata": {
        "id": "bacM3sWXptPa",
        "outputId": "ed500b17-3336-42c1-da2f-72d66bf54b37",
        "colab": {
          "base_uri": "https://localhost:8080/"
        }
      },
      "source": [
        "so_huong ='smaller'\n",
        "sample = np.random.normal(30.7,3.8,60)\n",
        "null_mean = 32\n",
        "ztest_Score, pvalue= ztest(sample, value = null_mean, alternative=so_huong)\n",
        "print(pvalue)"
      ],
      "execution_count": 13,
      "outputs": [
        {
          "output_type": "stream",
          "text": [
            "3.3218607011188566e-05\n"
          ],
          "name": "stdout"
        }
      ]
    },
    {
      "cell_type": "markdown",
      "metadata": {
        "id": "W0hgT3zBptPa"
      },
      "source": [
        "Bài 10: Does an average box of cereal contain 368 grams of cereal?  A random sample of 36 boxes had a mean of 372.5 and a standard deviation of 12 grams. Test at the .05 level of significance."
      ]
    },
    {
      "cell_type": "code",
      "metadata": {
        "id": "B3JewTL0ptPa",
        "outputId": "1765fc30-5cc7-4910-fedb-68e4183f1a31",
        "colab": {
          "base_uri": "https://localhost:8080/"
        }
      },
      "source": [
        "kiem_dinh_z([372.5,12,36],[368,0.05],'two-sided')"
      ],
      "execution_count": 14,
      "outputs": [
        {
          "output_type": "stream",
          "text": [
            "Chưa có bằng chứng để bác bỏ giả thuyết H0\n"
          ],
          "name": "stdout"
        }
      ]
    },
    {
      "cell_type": "markdown",
      "metadata": {
        "id": "HzPfxIjTptPb"
      },
      "source": [
        "Bài 11: You work for the FTC.  A manufacturer of detergent claims that the mean weight of detergent is 3.25 lb.  You take a random sample of 64 containers.  You calculate the sample average to be 3.238 lb. with a standard deviation of .117 lb.  At the .01 level of significance, is the manufacturer correct?"
      ]
    },
    {
      "cell_type": "code",
      "metadata": {
        "id": "gnaeeNilptPb",
        "outputId": "910f8f65-fe0f-4009-8069-6b6207834934",
        "colab": {
          "base_uri": "https://localhost:8080/"
        }
      },
      "source": [
        "kiem_dinh_z([3.238,0.117,64],[3.25,0.01],'two-sided')"
      ],
      "execution_count": 15,
      "outputs": [
        {
          "output_type": "stream",
          "text": [
            "Chưa có bằng chứng để bác bỏ giả thuyết H0\n"
          ],
          "name": "stdout"
        }
      ]
    },
    {
      "cell_type": "markdown",
      "metadata": {
        "id": "j6RnvTUXptPb"
      },
      "source": [
        "Bài 12: Is the average capacity of batteries less than 140 ampere-hours?  A random sample of 20 batteries had a mean of 138.47 and a standard deviation of 2.66.  Assume a normal distribution. Test at the .05 level of significance."
      ]
    },
    {
      "cell_type": "code",
      "metadata": {
        "id": "hJey_zuBptPb",
        "outputId": "1fcf9d2a-8934-4b05-ced5-e53dc7fc773e",
        "colab": {
          "base_uri": "https://localhost:8080/"
        }
      },
      "source": [
        "kiem_dinh_t([138.47,2.26,20],[140,0.05],'less')"
      ],
      "execution_count": 16,
      "outputs": [
        {
          "output_type": "stream",
          "text": [
            "Có bằng chứng để bác bỏ giả thuyết H0\n"
          ],
          "name": "stdout"
        }
      ]
    },
    {
      "cell_type": "markdown",
      "metadata": {
        "id": "VQzeS_SyptPb"
      },
      "source": [
        "Bài 13: You’re a marketing analyst for Wal-Mart.  Wal-Mart had teddy bears on sale last week.  The weekly sales of bears sold in 10 stores was: 8  11  0   4   7   8   10   5   8   3. At the .05 level of significance, is there evidence that the average bear sales per store is more than 5?"
      ]
    },
    {
      "cell_type": "code",
      "metadata": {
        "id": "iwucytI-ptPc",
        "outputId": "be1dd95c-9caa-414e-ec42-d9be47b4587d",
        "colab": {
          "base_uri": "https://localhost:8080/"
        }
      },
      "source": [
        "H0 = 5\n",
        "a = [8,11, 0, 4, 7, 8, 10, 5, 8, 3]\n",
        "result = stats.t.interval(0.9, len(a)-1, loc=np.mean(a), scale=stats.sem(a))\n",
        "if (H0 > result[0]) and (H0 <result[1]):\n",
        "    print('Chưa Có bằng chứng để bác bỏ giả thuyết H0')\n",
        "else:\n",
        "    print('Có bằng chứng để bác bỏ giả thuyết H0')"
      ],
      "execution_count": 17,
      "outputs": [
        {
          "output_type": "stream",
          "text": [
            "Chưa Có bằng chứng để bác bỏ giả thuyết H0\n"
          ],
          "name": "stdout"
        }
      ]
    }
  ]
}